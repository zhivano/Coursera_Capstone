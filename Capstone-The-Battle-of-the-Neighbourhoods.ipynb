{
    "cells": [
        {
            "cell_type": "markdown",
            "metadata": {},
            "source": "# Capstone Project - The Battle of the Neighbourhoods\n\n## Introduction: Business Problem\n\nIn this project we will try to find an optimal location for a bakery in/around Downtown Toronto, Canada.\n\nBecause of the trendiness of bakeries in Toronto we will try to detect locations that are not already crowded with bakeries but yet as close to city centre as possible.\n\nBased on these criteria, we will use our data science prowess to generate a few promissing streets and spotts. Advantages of each area will then be clearly expressed for the purposes of finding the best possible final location which can be chosen by stakeholders.\n\n## Data\n\nBased on our problem as defined above, factors that will influence our decission are:\n\n    - number of existing bakeries in/around the downtown area;\n    - distance to bakeries in the downtown area, if any distance of neighborhood from city centre.\n\nWe decided to use regularly spaced grid of locations, centered around city center, to define our neighbourhoods.\n\nData sources that will be needed to extract the required information as follows:\n\n    - centers of candidate areas will be generated algorithmically and approximate addresses of centers of those areas will be obtained using Google Maps API reverse geocoding;\n    - number of bakeries and their type and location in every neighborhood in and around Downtown Toronto will be obtained using Foursquare API;\n    - coordinates of Downtown Toronto will be obtained using Google Maps API geocoding.\n"
        },
        {
            "cell_type": "code",
            "execution_count": null,
            "metadata": {
                "collapsed": true
            },
            "outputs": [],
            "source": ""
        }
    ],
    "metadata": {
        "kernelspec": {
            "display_name": "Python 3.6",
            "language": "python",
            "name": "python3"
        },
        "language_info": {
            "codemirror_mode": {
                "name": "ipython",
                "version": 3
            },
            "file_extension": ".py",
            "mimetype": "text/x-python",
            "name": "python",
            "nbconvert_exporter": "python",
            "pygments_lexer": "ipython3",
            "version": "3.6.9"
        }
    },
    "nbformat": 4,
    "nbformat_minor": 1
}